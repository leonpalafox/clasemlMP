{
 "cells": [
  {
   "cell_type": "markdown",
   "metadata": {
    "colab_type": "text",
    "id": "BoXcil5CoHVI"
   },
   "source": [
    "# Modelos en Machine Learning\n",
    "\n",
    "Par tener acceso a los diferentes modelos, en Python, utilizaremos la libreria de Scikit Learn.\n",
    "Esta libreria ya tiene los modelos, preparados para poder entrenar los datos que nosotros tengamos."
   ]
  },
  {
   "cell_type": "code",
   "execution_count": 0,
   "metadata": {
    "colab": {},
    "colab_type": "code",
    "id": "7uK1FdTXoGka"
   },
   "outputs": [],
   "source": [
    "import numpy as np \n",
    "import pandas as pd \n",
    "from sklearn import linear_model"
   ]
  },
  {
   "cell_type": "markdown",
   "metadata": {
    "colab_type": "text",
    "id": "mVSuHfgSoiwE"
   },
   "source": [
    "##Importar datos\n",
    "\n",
    "La libreria de pandas tiene muchas herramientas para importar datos, una de ellas nos permite importar datos desde una fuente externa. En este caso utilizaremos una fuente de datos precargada."
   ]
  },
  {
   "cell_type": "code",
   "execution_count": 5,
   "metadata": {
    "colab": {
     "base_uri": "https://localhost:8080/",
     "height": 198
    },
    "colab_type": "code",
    "executionInfo": {
     "elapsed": 490,
     "status": "ok",
     "timestamp": 1564553804784,
     "user": {
      "displayName": "Leon Felipe Palafox Novack",
      "photoUrl": "https://lh6.googleusercontent.com/-OQbfCDkvXQY/AAAAAAAAAAI/AAAAAAAAAE4/JPt407nMaXw/s64/photo.jpg",
      "userId": "10846733508315833109"
     },
     "user_tz": 300
    },
    "id": "B7YzgSyLo1_E",
    "outputId": "59097a6f-3a04-47b8-97d2-24235a5079cc"
   },
   "outputs": [
    {
     "data": {
      "text/html": [
       "<div>\n",
       "<style scoped>\n",
       "    .dataframe tbody tr th:only-of-type {\n",
       "        vertical-align: middle;\n",
       "    }\n",
       "\n",
       "    .dataframe tbody tr th {\n",
       "        vertical-align: top;\n",
       "    }\n",
       "\n",
       "    .dataframe thead th {\n",
       "        text-align: right;\n",
       "    }\n",
       "</style>\n",
       "<table border=\"1\" class=\"dataframe\">\n",
       "  <thead>\n",
       "    <tr style=\"text-align: right;\">\n",
       "      <th></th>\n",
       "      <th>customer_id</th>\n",
       "      <th>rfm_score</th>\n",
       "      <th>Gender</th>\n",
       "      <th>Age</th>\n",
       "      <th>HouseType</th>\n",
       "      <th>ContactAvailability</th>\n",
       "      <th>HomeCountry</th>\n",
       "      <th>CreditScore</th>\n",
       "      <th>CLV</th>\n",
       "      <th>MonthlyValue</th>\n",
       "      <th>ActiveMonths</th>\n",
       "    </tr>\n",
       "  </thead>\n",
       "  <tbody>\n",
       "    <tr>\n",
       "      <th>0</th>\n",
       "      <td>10235005</td>\n",
       "      <td>322</td>\n",
       "      <td>Male</td>\n",
       "      <td>18</td>\n",
       "      <td>Owned</td>\n",
       "      <td>Medium</td>\n",
       "      <td>Singapore</td>\n",
       "      <td>NaN</td>\n",
       "      <td>7.3780</td>\n",
       "      <td>3.68900</td>\n",
       "      <td>2</td>\n",
       "    </tr>\n",
       "    <tr>\n",
       "      <th>1</th>\n",
       "      <td>10238628</td>\n",
       "      <td>535</td>\n",
       "      <td>Male</td>\n",
       "      <td>37</td>\n",
       "      <td>Rented</td>\n",
       "      <td>Low</td>\n",
       "      <td>Singapore</td>\n",
       "      <td>NaN</td>\n",
       "      <td>399.1002</td>\n",
       "      <td>199.55010</td>\n",
       "      <td>2</td>\n",
       "    </tr>\n",
       "    <tr>\n",
       "      <th>2</th>\n",
       "      <td>10256519</td>\n",
       "      <td>545</td>\n",
       "      <td>Male</td>\n",
       "      <td>50</td>\n",
       "      <td>Owned</td>\n",
       "      <td>High</td>\n",
       "      <td>Singapore</td>\n",
       "      <td>NaN</td>\n",
       "      <td>534.6880</td>\n",
       "      <td>534.68800</td>\n",
       "      <td>1</td>\n",
       "    </tr>\n",
       "    <tr>\n",
       "      <th>3</th>\n",
       "      <td>10261907</td>\n",
       "      <td>213</td>\n",
       "      <td>Male</td>\n",
       "      <td>57</td>\n",
       "      <td>Owned</td>\n",
       "      <td>Low</td>\n",
       "      <td>Singapore</td>\n",
       "      <td>NaN</td>\n",
       "      <td>17.9180</td>\n",
       "      <td>17.91800</td>\n",
       "      <td>1</td>\n",
       "    </tr>\n",
       "    <tr>\n",
       "      <th>4</th>\n",
       "      <td>10269642</td>\n",
       "      <td>554</td>\n",
       "      <td>Male</td>\n",
       "      <td>28</td>\n",
       "      <td>Owned</td>\n",
       "      <td>High</td>\n",
       "      <td>Singapore</td>\n",
       "      <td>NaN</td>\n",
       "      <td>570.9394</td>\n",
       "      <td>142.73485</td>\n",
       "      <td>4</td>\n",
       "    </tr>\n",
       "  </tbody>\n",
       "</table>\n",
       "</div>"
      ],
      "text/plain": [
       "   customer_id  rfm_score Gender  ...       CLV MonthlyValue ActiveMonths\n",
       "0     10235005        322   Male  ...    7.3780      3.68900            2\n",
       "1     10238628        535   Male  ...  399.1002    199.55010            2\n",
       "2     10256519        545   Male  ...  534.6880    534.68800            1\n",
       "3     10261907        213   Male  ...   17.9180     17.91800            1\n",
       "4     10269642        554   Male  ...  570.9394    142.73485            4\n",
       "\n",
       "[5 rows x 11 columns]"
      ]
     },
     "execution_count": 5,
     "metadata": {
      "tags": []
     },
     "output_type": "execute_result"
    }
   ],
   "source": [
    "df = pd.read_csv('https://raw.githubusercontent.com/leonpalafox/clasemlMP/master/FundamentosMachineLearning/data/custclv.csv')\n",
    "df.head()"
   ]
  },
  {
   "cell_type": "markdown",
   "metadata": {
    "colab_type": "text",
    "id": "dGVhZFHirPSg"
   },
   "source": [
    "## Carga de Modelo\n",
    "Para crear un modelo de regresión lineal basta con cargar las variables de interés en la función."
   ]
  },
  {
   "cell_type": "code",
   "execution_count": 10,
   "metadata": {
    "colab": {
     "base_uri": "https://localhost:8080/",
     "height": 35
    },
    "colab_type": "code",
    "executionInfo": {
     "elapsed": 346,
     "status": "ok",
     "timestamp": 1564554097293,
     "user": {
      "displayName": "Leon Felipe Palafox Novack",
      "photoUrl": "https://lh6.googleusercontent.com/-OQbfCDkvXQY/AAAAAAAAAAI/AAAAAAAAAE4/JPt407nMaXw/s64/photo.jpg",
      "userId": "10846733508315833109"
     },
     "user_tz": 300
    },
    "id": "2HKnVLPbrN8k",
    "outputId": "1705d333-7ed9-4565-88ae-889f9f6137b2"
   },
   "outputs": [
    {
     "data": {
      "text/plain": [
       "array([ 0.07896835, -0.62826523, 75.73227722])"
      ]
     },
     "execution_count": 10,
     "metadata": {
      "tags": []
     },
     "output_type": "execute_result"
    }
   ],
   "source": [
    "df_modelo = df[['rfm_score', 'Age', 'ActiveMonths']]\n",
    "df_obj = df['CLV']\n",
    "lr = linear_model.LinearRegression() #lr es el Modelo de regesión lineal\n",
    "lr.fit(df_modelo, df_obj)\n",
    "lr.coef_"
   ]
  },
  {
   "cell_type": "markdown",
   "metadata": {
    "colab_type": "text",
    "id": "JEgceyhLsT-F"
   },
   "source": [
    "Este resultado implica:\n",
    "\n",
    "\\begin{align}\n",
    "0.0789.rfm\\_score -0.6282.Age+75.732277.ActiveMonths = CLV\n",
    "\\end{align}"
   ]
  },
  {
   "cell_type": "markdown",
   "metadata": {
    "colab_type": "text",
    "id": "6309YdJMs-7J"
   },
   "source": [
    "El lr.fit ejecutó el tercer elemento en el paradigma fundamental de Machine Learning, el cual es la optimización"
   ]
  },
  {
   "cell_type": "code",
   "execution_count": 0,
   "metadata": {
    "colab": {},
    "colab_type": "code",
    "id": "FIU63fS0sxyc"
   },
   "outputs": [],
   "source": []
  },
  {
   "cell_type": "code",
   "execution_count": 0,
   "metadata": {
    "colab": {},
    "colab_type": "code",
    "id": "73h6GS65tI1N"
   },
   "outputs": [],
   "source": []
  }
 ],
 "metadata": {
  "colab": {
   "name": "ModelosMachineLearning.ipynb",
   "provenance": [],
   "version": "0.3.2"
  },
  "kernelspec": {
   "display_name": "Python 3",
   "language": "python",
   "name": "python3"
  },
  "language_info": {
   "codemirror_mode": {
    "name": "ipython",
    "version": 3
   },
   "file_extension": ".py",
   "mimetype": "text/x-python",
   "name": "python",
   "nbconvert_exporter": "python",
   "pygments_lexer": "ipython3",
   "version": "3.7.3"
  }
 },
 "nbformat": 4,
 "nbformat_minor": 1
}
